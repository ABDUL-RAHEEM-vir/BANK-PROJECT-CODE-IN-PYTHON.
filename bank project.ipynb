{
 "cells": [
  {
   "cell_type": "code",
   "execution_count": 1,
   "id": "dd874949-b298-4135-b8c2-798e64f6bff4",
   "metadata": {},
   "outputs": [],
   "source": [
    "import random\n",
    "\n",
    "# Function to display the main menu\n",
    "def display_menu():\n",
    "    print(\"\\nWelcome to the Bank Management System\")\n",
    "    print(\"1. Create Account\")\n",
    "    print(\"2. Deposit Money\")\n",
    "    print(\"3. Withdraw Money\")\n",
    "    print(\"4. Check Balance\")\n",
    "    print(\"5. Exit\")\n"
   ]
  },
  {
   "cell_type": "code",
   "execution_count": 2,
   "id": "4749592c-9eef-436d-8057-de09384b48de",
   "metadata": {},
   "outputs": [],
   "source": [
    "# In-memory account storage\n",
    "accounts = {}\n",
    "\n",
    "# Function to generate a unique 4-digit PIN\n",
    "def generate_unique_pin():\n",
    "    return str(random.randint(1000, 9999))"
   ]
  },
  {
   "cell_type": "code",
   "execution_count": 3,
   "id": "83299016-59e7-401e-a3ab-faae33ccfe1c",
   "metadata": {},
   "outputs": [],
   "source": [
    "# Function to create a new account\n",
    "def create_account():\n",
    "    account_number = str(len(accounts) + 1)  # Auto-generate account number\n",
    "    name = input(\"Enter the account holder's name: \")\n",
    "    \n",
    "    while True:\n",
    "        try:\n",
    "            initial_balance = float(input(\"Enter initial deposit amount: \"))\n",
    "            if initial_balance < 0:\n",
    "                print(\"Initial deposit must be non-negative.\")\n",
    "                continue\n",
    "            break\n",
    "        except ValueError:\n",
    "            print(\"Please enter a valid number.\")\n",
    "\n",
    "    pin = generate_unique_pin()\n",
    "    accounts[account_number] = {\"name\": name, \"balance\": initial_balance, \"pin\": pin}\n",
    "    print(f\"Account created successfully! Account Number: {account_number}\")\n",
    "    print(f\"Your PIN: {pin}. Please keep it safe.\")"
   ]
  },
  {
   "cell_type": "code",
   "execution_count": 4,
   "id": "7c9c68bf-3072-487e-8262-75c86e3bcb6e",
   "metadata": {},
   "outputs": [],
   "source": [
    "# Function to validate PIN\n",
    "def validate_pin(account_number):\n",
    "    for _ in range(3):  # Allow up to 3 attempts\n",
    "        pin = input(\"Enter your 4-digit PIN: \")\n",
    "        if accounts[account_number][\"pin\"] == pin:\n",
    "            return True\n",
    "        print(\"Incorrect PIN. Try again.\")\n",
    "    print(\"Too many incorrect attempts. Access denied.\")\n",
    "    return False"
   ]
  },
  {
   "cell_type": "code",
   "execution_count": 5,
   "id": "aedf9be3-5e29-4c2d-acbf-c7b5e98e4874",
   "metadata": {},
   "outputs": [],
   "source": [
    "# Function to deposit money\n",
    "def deposit_money():\n",
    "    account_number = input(\"Enter account number: \")\n",
    "    if account_number in accounts:\n",
    "        while True:\n",
    "            try:\n",
    "                amount = float(input(\"Enter deposit amount: \"))\n",
    "                if amount < 0:\n",
    "                    print(\"Deposit amount must be non-negative.\")\n",
    "                    continue\n",
    "                accounts[account_number][\"balance\"] += amount\n",
    "                print(\"Deposit successful!\")\n",
    "                break\n",
    "            except ValueError:\n",
    "                print(\"Please enter a valid number.\")\n",
    "    else:\n",
    "        print(\"Account not found!\")"
   ]
  },
  {
   "cell_type": "code",
   "execution_count": 6,
   "id": "173241d3-775a-495a-9d16-ca7a58d17279",
   "metadata": {},
   "outputs": [],
   "source": [
    "# Function to withdraw money\n",
    "def withdraw_money():\n",
    "    account_number = input(\"Enter account number: \")\n",
    "    if account_number in accounts:\n",
    "        if validate_pin(account_number):\n",
    "            while True:\n",
    "                try:\n",
    "                    amount = float(input(\"Enter withdrawal amount: \"))\n",
    "                    if amount < 0:\n",
    "                        print(\"Withdrawal amount must be non-negative.\")\n",
    "                        continue\n",
    "                    if amount <= accounts[account_number][\"balance\"]:\n",
    "                        accounts[account_number][\"balance\"] -= amount\n",
    "                        print(\"Withdrawal successful!\")\n",
    "                    else:\n",
    "                        print(\"Insufficient balance!\")\n",
    "                    break\n",
    "                except ValueError:\n",
    "                    print(\"Please enter a valid number.\")\n",
    "    else:\n",
    "        print(\"Account not found!\")\n"
   ]
  },
  {
   "cell_type": "code",
   "execution_count": 7,
   "id": "0c3fbc25-166b-4542-adf9-2e1fec4e6a62",
   "metadata": {},
   "outputs": [],
   "source": [
    "# Function to check balance\n",
    "def check_balance():\n",
    "    account_number = input(\"Enter account number: \")\n",
    "    if account_number in accounts:\n",
    "        if validate_pin(account_number):\n",
    "            print(f\"Account Holder: {accounts[account_number]['name']}\")\n",
    "            print(f\"Balance: ${accounts[account_number]['balance']:.2f}\")\n",
    "    else:\n",
    "        print(\"Account not found!\")\n"
   ]
  },
  {
   "cell_type": "code",
   "execution_count": 8,
   "id": "b1fb976b-788f-4aff-b0c7-560a7d4e5466",
   "metadata": {},
   "outputs": [],
   "source": [
    "# Main function\n",
    "def main():\n",
    "    while True:\n",
    "        display_menu()\n",
    "        choice = input(\"Enter your choice: \")\n",
    "        if choice == \"1\":\n",
    "            create_account()\n",
    "        elif choice == \"2\":\n",
    "            deposit_money()\n",
    "        elif choice == \"3\":\n",
    "            withdraw_money()\n",
    "        elif choice == \"4\":\n",
    "            check_balance()\n",
    "        elif choice == \"5\":\n",
    "            print(\"Thank you for using the Bank Management System!\")\n",
    "            break\n",
    "        else:\n",
    "            print(\"Invalid choice! Please try again.\")"
   ]
  },
  {
   "cell_type": "code",
   "execution_count": null,
   "id": "4eefdfff-fae6-4fef-9a12-f8035283a491",
   "metadata": {},
   "outputs": [
    {
     "name": "stdout",
     "output_type": "stream",
     "text": [
      "\n",
      "Welcome to the Bank Management System\n",
      "1. Create Account\n",
      "2. Deposit Money\n",
      "3. Withdraw Money\n",
      "4. Check Balance\n",
      "5. Exit\n"
     ]
    },
    {
     "name": "stdin",
     "output_type": "stream",
     "text": [
      "Enter your choice:  4\n",
      "Enter account number:  1\n",
      "Enter your 4-digit PIN:  6120\n"
     ]
    },
    {
     "name": "stdout",
     "output_type": "stream",
     "text": [
      "Account Holder: raheem\n",
      "Balance: $7091.00\n",
      "\n",
      "Welcome to the Bank Management System\n",
      "1. Create Account\n",
      "2. Deposit Money\n",
      "3. Withdraw Money\n",
      "4. Check Balance\n",
      "5. Exit\n"
     ]
    }
   ],
   "source": [
    "# Run the program\n",
    "if __name__ == \"__main__\":\n",
    "    main()"
   ]
  },
  {
   "cell_type": "code",
   "execution_count": null,
   "id": "e3b7cec1-7c4d-4441-97ba-d4793bad2c66",
   "metadata": {},
   "outputs": [],
   "source": []
  },
  {
   "cell_type": "code",
   "execution_count": null,
   "id": "23f6574d-93cf-4ed8-b1a6-6975dbe081e6",
   "metadata": {},
   "outputs": [],
   "source": []
  },
  {
   "cell_type": "code",
   "execution_count": null,
   "id": "5efdc438-8cc3-4c7d-9df2-ff00d6f79f76",
   "metadata": {},
   "outputs": [],
   "source": []
  }
 ],
 "metadata": {
  "kernelspec": {
   "display_name": "Python 3 (ipykernel)",
   "language": "python",
   "name": "python3"
  },
  "language_info": {
   "codemirror_mode": {
    "name": "ipython",
    "version": 3
   },
   "file_extension": ".py",
   "mimetype": "text/x-python",
   "name": "python",
   "nbconvert_exporter": "python",
   "pygments_lexer": "ipython3",
   "version": "3.12.7"
  }
 },
 "nbformat": 4,
 "nbformat_minor": 5
}
